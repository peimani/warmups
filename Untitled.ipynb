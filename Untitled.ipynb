{
 "cells": [
  {
   "cell_type": "code",
   "execution_count": 1,
   "metadata": {
    "ExecuteTime": {
     "end_time": "2020-10-20T18:58:36.187681Z",
     "start_time": "2020-10-20T18:58:35.951922Z"
    }
   },
   "outputs": [],
   "source": [
    "import os\n",
    "import json\n",
    "import requests\n",
    "\n",
    "class RickAndMorty:\n",
    "\n",
    "\n",
    "    def __init__(self):\n",
    "        self.base_url = \"https://rickandmortyapi.com/api/character/2\"\n",
    "\n",
    "\n",
    "    @staticmethod # decorator that tells the function to not expect 'self'\n",
    "    def create_final_endpoint(base_url, endpoint):\n",
    "        final_endpoint = os.path.join(base_url, endpoint)\n",
    "        return final_endpoint\n",
    "\n",
    "\n",
    "    def find_character(self, **params):\n",
    "        \"\"\"\n",
    "        **params:\n",
    "            name: filter by the given name.\n",
    "            status: filter by the given status (alive, dead or unknown).\n",
    "            species: filter by the given species.\n",
    "            type: filter by the given type.\n",
    "            gender: filter by the given gender (female, male, genderless or unknown)\n",
    "        \"\"\"\n",
    "        endpoint = \"character\"\n",
    "        final_endpoint = self.create_final_endpoint(base_url=self.base_url, \n",
    "                                                    endpoint=endpoint)\n",
    "        r = requests.get(final_endpoint, params=params)\n",
    "        return r.json()\n",
    "\n",
    "\n",
    "    def find_all_characters_by_species(self, species=\"human\"):\n",
    "        params = {\"species\":species}\n",
    "        r = self.find_character(params=params)\n",
    "        return r "
   ]
  },
  {
   "cell_type": "code",
   "execution_count": 6,
   "metadata": {
    "ExecuteTime": {
     "end_time": "2020-10-20T19:18:18.560545Z",
     "start_time": "2020-10-20T19:18:18.556698Z"
    }
   },
   "outputs": [],
   "source": [
    "    def find_status(self, status='Alive'):\n",
    "        params = {'status':statu}\n",
    "        r = self.find_status(params=params)\n",
    "        r.json()\n",
    "        "
   ]
  },
  {
   "cell_type": "code",
   "execution_count": 4,
   "metadata": {
    "ExecuteTime": {
     "end_time": "2020-10-20T19:15:36.065282Z",
     "start_time": "2020-10-20T19:15:36.059040Z"
    }
   },
   "outputs": [
    {
     "ename": "SyntaxError",
     "evalue": "invalid syntax (<ipython-input-4-cdb51750d3a7>, line 1)",
     "output_type": "error",
     "traceback": [
      "\u001b[0;36m  File \u001b[0;32m\"<ipython-input-4-cdb51750d3a7>\"\u001b[0;36m, line \u001b[0;32m1\u001b[0m\n\u001b[0;31m    def find_image(self, image='url='https://rickandmortyapi.com/api/character/avatar/599.jpeg')'):\u001b[0m\n\u001b[0m                                         ^\u001b[0m\n\u001b[0;31mSyntaxError\u001b[0m\u001b[0;31m:\u001b[0m invalid syntax\n"
     ]
    }
   ],
   "source": [
    "    def find_image(self, image='url='https://rickandmortyapi.com/api/character/avatar/599.jpeg')'):\n",
    "        params = {'status':statu}\n",
    "        r = self.find_status(params=params)\n",
    "        return r"
   ]
  },
  {
   "cell_type": "code",
   "execution_count": null,
   "metadata": {},
   "outputs": [],
   "source": []
  }
 ],
 "metadata": {
  "kernelspec": {
   "display_name": "Python 3",
   "language": "python",
   "name": "python3"
  },
  "language_info": {
   "codemirror_mode": {
    "name": "ipython",
    "version": 3
   },
   "file_extension": ".py",
   "mimetype": "text/x-python",
   "name": "python",
   "nbconvert_exporter": "python",
   "pygments_lexer": "ipython3",
   "version": "3.7.6"
  },
  "toc": {
   "base_numbering": 1,
   "nav_menu": {},
   "number_sections": true,
   "sideBar": true,
   "skip_h1_title": false,
   "title_cell": "Table of Contents",
   "title_sidebar": "Contents",
   "toc_cell": false,
   "toc_position": {},
   "toc_section_display": true,
   "toc_window_display": false
  },
  "varInspector": {
   "cols": {
    "lenName": 16,
    "lenType": 16,
    "lenVar": 40
   },
   "kernels_config": {
    "python": {
     "delete_cmd_postfix": "",
     "delete_cmd_prefix": "del ",
     "library": "var_list.py",
     "varRefreshCmd": "print(var_dic_list())"
    },
    "r": {
     "delete_cmd_postfix": ") ",
     "delete_cmd_prefix": "rm(",
     "library": "var_list.r",
     "varRefreshCmd": "cat(var_dic_list()) "
    }
   },
   "types_to_exclude": [
    "module",
    "function",
    "builtin_function_or_method",
    "instance",
    "_Feature"
   ],
   "window_display": false
  }
 },
 "nbformat": 4,
 "nbformat_minor": 4
}
